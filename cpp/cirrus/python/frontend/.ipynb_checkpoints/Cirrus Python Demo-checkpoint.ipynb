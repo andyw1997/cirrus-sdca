{
 "cells": [
  {
   "cell_type": "markdown",
   "metadata": {},
   "source": [
    "# Cirrus Demo\n",
    "\n",
    "## Simple Example\n",
    "\n",
    "This will run a simple logistic regression on the Criteo Kaggle dataset"
   ]
  },
  {
   "cell_type": "code",
   "execution_count": 23,
   "metadata": {},
   "outputs": [
    {
     "name": "stdout",
     "output_type": "stream",
     "text": [
      "2.7.12 (default, Dec  4 2017, 14:50:18) \n",
      "[GCC 5.4.0 20160609]\n",
      "2.5.1\n"
     ]
    }
   ],
   "source": [
    "import cirrus\n",
    "from plotly import __version__\n",
    "from plotly.offline import download_plotlyjs, init_notebook_mode, plot, iplot\n",
    "import sys\n",
    "print(sys.version)\n",
    "\n",
    "print __version__ # requires version >= 1.9.0"
   ]
  },
  {
   "cell_type": "code",
   "execution_count": 28,
   "metadata": {},
   "outputs": [
    {
     "data": {
      "text/html": [
       "<script>requirejs.config({paths: { 'plotly': ['https://cdn.plot.ly/plotly-latest.min']},});if(!window.Plotly) {{require(['plotly'],function(plotly) {window.Plotly=plotly;});}}</script>"
      ],
      "text/vnd.plotly.v1+html": [
       "<script>requirejs.config({paths: { 'plotly': ['https://cdn.plot.ly/plotly-latest.min']},});if(!window.Plotly) {{require(['plotly'],function(plotly) {window.Plotly=plotly;});}}</script>"
      ]
     },
     "metadata": {},
     "output_type": "display_data"
    },
    {
     "data": {
      "text/html": [
       "<iframe id=\"igraph\" scrolling=\"no\" style=\"border:none;\" seamless=\"seamless\" src=\"https://plot.ly/~andrewmzhang/11.embed\" height=\"525px\" width=\"100%\"></iframe>"
      ],
      "text/plain": [
       "<plotly.tools.PlotlyDisplay object>"
      ]
     },
     "execution_count": 28,
     "metadata": {},
     "output_type": "execute_result"
    }
   ],
   "source": [
    "\n",
    "import numpy as np \n",
    "import plotly.plotly as py  \n",
    "import plotly.tools as tls   \n",
    "import plotly.graph_objs as go\n",
    "\n",
    "init_notebook_mode(connected=True)\n",
    "stream_ids = tls.get_credentials_file()['stream_ids']\n",
    "\n",
    "# Get stream id from stream id list \n",
    "stream_id = stream_ids[0]\n",
    "\n",
    "\n",
    "py.iplot([{'x': [], 'y': [], 'type': 'scatter', 'mode': 'lines+markers',\n",
    "            'stream': {'token': stream_id, 'maxpoints': 80}\n",
    "          }],\n",
    "        filename='Time Series', fileopt='overwrite')"
   ]
  },
  {
   "cell_type": "code",
   "execution_count": 29,
   "metadata": {},
   "outputs": [],
   "source": [
    "\n",
    "# We will provide the stream link object the same token that's associated with the trace we wish to stream to\n",
    "s = py.Stream(stream_id)\n",
    "\n",
    "# We then open a connection\n",
    "s.open()"
   ]
  },
  {
   "cell_type": "code",
   "execution_count": 30,
   "metadata": {},
   "outputs": [],
   "source": [
    "def progress_callback(time_loss, cost, task):\n",
    "    print(\"Current training loss:\", time_loss, \"current cost ($): \", cost)\n",
    "    s.write(dict(x=time_loss[0], y=time_loss[1]))\n",
    "\n"
   ]
  },
  {
   "cell_type": "code",
   "execution_count": 31,
   "metadata": {},
   "outputs": [
    {
     "name": "stdout",
     "output_type": "stream",
     "text": [
      "Running Logistic Regression workload\n",
      "Starting LogisticRegressionTask\n",
      "User's specific ip: ec2-34-219-23-178.us-west-2.compute.amazonaws.com\n",
      "Copying ps to vm\n",
      "Done waiting... Attempting to copy over binary\n",
      "Copied parameter server\n",
      "Defining configuration file\n",
      "\n",
      "input_path: /mnt/efs/criteo_kaggle/train.csv \n",
      "input_type: csv\n",
      "num_classes: 2 \n",
      "num_features: 13 \n",
      "limit_cols: 14 \n",
      "normalize: 1 \n",
      "limit_samples: 50000000 \n",
      "s3_size: 50000 \n",
      "use_bias: 1 \n",
      "model_type: LogisticRegression \n",
      "minibatch_size: 20 \n",
      "learning_rate: 0.010000 \n",
      "epsilon: 0.000100 \n",
      "model_bits: 19 \n",
      "s3_bucket: cirrus-criteo-kaggle-19b-random \n",
      "use_grad_threshold: 1 \n",
      "grad_threshold: 0.001000 \n",
      "train_set: 0-824 \n",
      "test_set: 825-840\n",
      "\n",
      "Launching ps\n",
      "Launching parameter server\n",
      "('cmd:', 'ssh -o \"StrictHostKeyChecking no\" -i /home/camus/Downloads/mykey.pem ec2-user@ec2-34-219-23-178.us-west-2.compute.amazonaws.com \"nohup ./parameter_server config_lr.txt 10000 1 &> ps_output &\"')\n",
      "Launching lambdas\n",
      "relaunching lambda with id 3 0\n",
      " ('cmd', 'ssh -o \"StrictHostKeyChecking no\" -i /home/camus/Downloads/mykey.pem ec2-user@ec2-34-219-23-178.us-west-2.compute.amazonaws.com \"./parameter_server config_lr.txt 10 2\" > error_out &')relaunching lambda with id 4 0\n",
      "\n",
      "('Current training loss:', (41.507, 0.528173), 'current cost ($): ', 0.1)\n",
      "('Current training loss:', (112.08, 0.509401), 'current cost ($): ', 0.1)\n",
      "error is timing out\n",
      "Waiting for threads\n"
     ]
    },
    {
     "name": "stderr",
     "output_type": "stream",
     "text": [
      "Exception in thread Thread-30:\n",
      "Traceback (most recent call last):\n",
      "  File \"/usr/lib/python2.7/threading.py\", line 801, in __bootstrap_inner\n",
      "    self.run()\n",
      "  File \"/usr/lib/python2.7/threading.py\", line 754, in run\n",
      "    self.__target(*self.__args, **self.__kwargs)\n",
      "  File \"cirrus.py\", line 117, in launch\n",
      "    Payload='{\"num_task\": %d, \"num_workers\": %d}' % (num_task, num_workers))\n",
      "  File \"/usr/local/lib/python2.7/dist-packages/botocore/client.py\", line 314, in _api_call\n",
      "    return self._make_api_call(operation_name, kwargs)\n",
      "  File \"/usr/local/lib/python2.7/dist-packages/botocore/client.py\", line 599, in _make_api_call\n",
      "    operation_model, request_dict)\n",
      "  File \"/usr/local/lib/python2.7/dist-packages/botocore/endpoint.py\", line 148, in make_request\n",
      "    return self._send_request(request_dict, operation_model)\n",
      "  File \"/usr/local/lib/python2.7/dist-packages/botocore/endpoint.py\", line 177, in _send_request\n",
      "    success_response, exception):\n",
      "  File \"/usr/local/lib/python2.7/dist-packages/botocore/endpoint.py\", line 273, in _needs_retry\n",
      "    caught_exception=caught_exception, request_dict=request_dict)\n",
      "  File \"/usr/local/lib/python2.7/dist-packages/botocore/hooks.py\", line 227, in emit\n",
      "    return self._emit(event_name, kwargs)\n",
      "  File \"/usr/local/lib/python2.7/dist-packages/botocore/hooks.py\", line 210, in _emit\n",
      "    response = handler(**kwargs)\n",
      "  File \"/usr/local/lib/python2.7/dist-packages/botocore/retryhandler.py\", line 183, in __call__\n",
      "    if self._checker(attempts, response, caught_exception):\n",
      "  File \"/usr/local/lib/python2.7/dist-packages/botocore/retryhandler.py\", line 251, in __call__\n",
      "    caught_exception)\n",
      "  File \"/usr/local/lib/python2.7/dist-packages/botocore/retryhandler.py\", line 277, in _should_retry\n",
      "    return self._checker(attempt_number, response, caught_exception)\n",
      "  File \"/usr/local/lib/python2.7/dist-packages/botocore/retryhandler.py\", line 317, in __call__\n",
      "    caught_exception)\n",
      "  File \"/usr/local/lib/python2.7/dist-packages/botocore/retryhandler.py\", line 223, in __call__\n",
      "    attempt_number, caught_exception)\n",
      "  File \"/usr/local/lib/python2.7/dist-packages/botocore/retryhandler.py\", line 359, in _check_caught_exception\n",
      "    raise caught_exception\n",
      "ReadTimeout: HTTPSConnectionPool(host='lambda.us-west-2.amazonaws.com', port=443): Read timed out. (read timeout=60)\n",
      "\n"
     ]
    },
    {
     "name": "stdout",
     "output_type": "stream",
     "text": [
      "Lambdas have been launched\n"
     ]
    },
    {
     "name": "stderr",
     "output_type": "stream",
     "text": [
      "Exception in thread Thread-29:\n",
      "Traceback (most recent call last):\n",
      "  File \"/usr/lib/python2.7/threading.py\", line 801, in __bootstrap_inner\n",
      "    self.run()\n",
      "  File \"/usr/lib/python2.7/threading.py\", line 754, in run\n",
      "    self.__target(*self.__args, **self.__kwargs)\n",
      "  File \"cirrus.py\", line 117, in launch\n",
      "    Payload='{\"num_task\": %d, \"num_workers\": %d}' % (num_task, num_workers))\n",
      "  File \"/usr/local/lib/python2.7/dist-packages/botocore/client.py\", line 314, in _api_call\n",
      "    return self._make_api_call(operation_name, kwargs)\n",
      "  File \"/usr/local/lib/python2.7/dist-packages/botocore/client.py\", line 599, in _make_api_call\n",
      "    operation_model, request_dict)\n",
      "  File \"/usr/local/lib/python2.7/dist-packages/botocore/endpoint.py\", line 148, in make_request\n",
      "    return self._send_request(request_dict, operation_model)\n",
      "  File \"/usr/local/lib/python2.7/dist-packages/botocore/endpoint.py\", line 177, in _send_request\n",
      "    success_response, exception):\n",
      "  File \"/usr/local/lib/python2.7/dist-packages/botocore/endpoint.py\", line 273, in _needs_retry\n",
      "    caught_exception=caught_exception, request_dict=request_dict)\n",
      "  File \"/usr/local/lib/python2.7/dist-packages/botocore/hooks.py\", line 227, in emit\n",
      "    return self._emit(event_name, kwargs)\n",
      "  File \"/usr/local/lib/python2.7/dist-packages/botocore/hooks.py\", line 210, in _emit\n",
      "    response = handler(**kwargs)\n",
      "  File \"/usr/local/lib/python2.7/dist-packages/botocore/retryhandler.py\", line 183, in __call__\n",
      "    if self._checker(attempts, response, caught_exception):\n",
      "  File \"/usr/local/lib/python2.7/dist-packages/botocore/retryhandler.py\", line 251, in __call__\n",
      "    caught_exception)\n",
      "  File \"/usr/local/lib/python2.7/dist-packages/botocore/retryhandler.py\", line 277, in _should_retry\n",
      "    return self._checker(attempt_number, response, caught_exception)\n",
      "  File \"/usr/local/lib/python2.7/dist-packages/botocore/retryhandler.py\", line 317, in __call__\n",
      "    caught_exception)\n",
      "  File \"/usr/local/lib/python2.7/dist-packages/botocore/retryhandler.py\", line 223, in __call__\n",
      "    attempt_number, caught_exception)\n",
      "  File \"/usr/local/lib/python2.7/dist-packages/botocore/retryhandler.py\", line 359, in _check_caught_exception\n",
      "    raise caught_exception\n",
      "ReadTimeout: HTTPSConnectionPool(host='lambda.us-west-2.amazonaws.com', port=443): Read timed out. (read timeout=60)\n",
      "\n"
     ]
    }
   ],
   "source": [
    "data_bucket = 'cirrus-criteo-kaggle-19b-random'\n",
    "model = 'model_v1'\n",
    "\n",
    "lr_task = cirrus.LogisticRegression(\n",
    "             # number of workers and number of PSs\n",
    "             n_workers = 3, n_ps = 2,\n",
    "             # path to s3 bucket with input dataset\n",
    "             dataset = data_bucket,\n",
    "             # sgd update LR and epsilon\n",
    "             learning_rate=0.01, epsilon=0.0001,\n",
    "             #\n",
    "             progress_callback = progress_callback,\n",
    "             # stop workload after these many seconds\n",
    "             timeout = 0,\n",
    "             # stop workload once we reach this loss\n",
    "             threshold_loss=0,\n",
    "             # resume execution from model stored in this s3 bucket\n",
    "             resume_model = model,\n",
    "             # aws key name\n",
    "             key_name='mykey',\n",
    "             # path to aws key\n",
    "             key_path='/home/camus/Downloads/mykey.pem',\n",
    "             # ip where ps lives\n",
    "             ps_ip='ec2-34-219-23-178.us-west-2.compute.amazonaws.com',\n",
    "             # username of VM\n",
    "             ps_username='ec2-user',\n",
    "             # choose between adagrad, sgd, nesterov, momentum\n",
    "             opt_method = 'adagrad',\n",
    "             # checkpoint model every x secs\n",
    "             checkpoint_model = 60,\n",
    "             #\n",
    "             minibatch_size=20,\n",
    "             # model size\n",
    "             model_bits=19,\n",
    "             # whether to filter gradient weights\n",
    "             use_grad_threshold=True,\n",
    "             # threshold value\n",
    "             grad_threshold=0.001,\n",
    "             # range of training minibatches\n",
    "             train_set=(0,824),\n",
    "             # range of testing minibatches\n",
    "             test_set=(825,827)\n",
    "             )\n",
    "\n",
    "lr_task.run()\n",
    "\n",
    "#model, loss = lr_task.wait()"
   ]
  },
  {
   "cell_type": "code",
   "execution_count": null,
   "metadata": {},
   "outputs": [],
   "source": [
    "s.close"
   ]
  }
 ],
 "metadata": {
  "kernelspec": {
   "display_name": "Python 2",
   "language": "python",
   "name": "python2"
  },
  "language_info": {
   "codemirror_mode": {
    "name": "ipython",
    "version": 2
   },
   "file_extension": ".py",
   "mimetype": "text/x-python",
   "name": "python",
   "nbconvert_exporter": "python",
   "pygments_lexer": "ipython2",
   "version": "2.7.12"
  }
 },
 "nbformat": 4,
 "nbformat_minor": 2
}
